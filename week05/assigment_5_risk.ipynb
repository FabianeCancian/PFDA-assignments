{
 "cells": [
  {
   "cell_type": "code",
   "execution_count": 2,
   "metadata": {},
   "outputs": [],
   "source": [
    "# Importing Library\n",
    "\n",
    "from numpy import random\n",
    "import matplotlib.pyplot as plt"
   ]
  },
  {
   "cell_type": "code",
   "execution_count": 4,
   "metadata": {},
   "outputs": [
    {
     "name": "stdout",
     "output_type": "stream",
     "text": [
      "[5, 1, 1] [4, 3]\n"
     ]
    }
   ],
   "source": [
    "#Generate random numbers for attackers and defenders\n",
    "x = random.randint(low=1, high=6, size=3)\n",
    "Attacker = sorted(x, reverse=True)\n",
    "y = random.randint(low=1, high=6, size=2)\n",
    "Defender = sorted(y, reverse=True)\n",
    "print(Attacker, Defender)"
   ]
  },
  {
   "cell_type": "code",
   "execution_count": 7,
   "metadata": {},
   "outputs": [
    {
     "name": "stdout",
     "output_type": "stream",
     "text": [
      "Attacker wins\n",
      "Defender wins\n"
     ]
    }
   ],
   "source": [
    "#comparing dices values from the troops\n",
    "if Attacker[0] > Defender[0]:\n",
    "    print(\"Attacker wins\")\n",
    "else:\n",
    "    print(\"Defender wins\")\n",
    "if Attacker[1] > Defender[1]:\n",
    "    print(\"Attacker wins\")\n",
    "else:\n",
    "    print(\"Defender wins\")"
   ]
  },
  {
   "cell_type": "markdown",
   "metadata": {},
   "source": [
    "https://www.w3schools.com/python/numpy/numpy_random.asp\n",
    "https://numpy.org/doc/2.0/reference/random/generated/numpy.random.randint.html\n",
    "https://www.w3schools.com/python/ref_func_sorted.asp"
   ]
  }
 ],
 "metadata": {
  "kernelspec": {
   "display_name": "Python 3",
   "language": "python",
   "name": "python3"
  },
  "language_info": {
   "codemirror_mode": {
    "name": "ipython",
    "version": 3
   },
   "file_extension": ".py",
   "mimetype": "text/x-python",
   "name": "python",
   "nbconvert_exporter": "python",
   "pygments_lexer": "ipython3",
   "version": "3.11.5"
  }
 },
 "nbformat": 4,
 "nbformat_minor": 2
}
